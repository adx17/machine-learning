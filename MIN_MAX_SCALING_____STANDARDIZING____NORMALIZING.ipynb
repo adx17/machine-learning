{
  "nbformat": 4,
  "nbformat_minor": 0,
  "metadata": {
    "colab": {
      "provenance": [],
      "authorship_tag": "ABX9TyMMtW0jnlFsjZfONKdQ8XGQ",
      "include_colab_link": true
    },
    "kernelspec": {
      "name": "python3",
      "display_name": "Python 3"
    },
    "language_info": {
      "name": "python"
    }
  },
  "cells": [
    {
      "cell_type": "markdown",
      "metadata": {
        "id": "view-in-github",
        "colab_type": "text"
      },
      "source": [
        "<a href=\"https://colab.research.google.com/github/adx17/machine-learning/blob/main/MIN_MAX_SCALING_____STANDARDIZING____NORMALIZING.ipynb\" target=\"_parent\"><img src=\"https://colab.research.google.com/assets/colab-badge.svg\" alt=\"Open In Colab\"/></a>"
      ]
    },
    {
      "cell_type": "markdown",
      "source": [
        "#**MIN-MAX SCALING , STANDARDIZING ,NORMALIZING**"
      ],
      "metadata": {
        "id": "ye6EfbJYZPQz"
      }
    },
    {
      "cell_type": "markdown",
      "source": [
        " ##**IMPORTING MODULES**"
      ],
      "metadata": {
        "id": "J4jHdsgnY9np"
      }
    },
    {
      "cell_type": "code",
      "execution_count": 2,
      "metadata": {
        "id": "ya88T2HUY8eT"
      },
      "outputs": [],
      "source": [
        "import numpy as np\n",
        "from sklearn.preprocessing import MinMaxScaler,StandardScaler,Normalizer"
      ]
    },
    {
      "cell_type": "markdown",
      "source": [
        "##**DATASETS**"
      ],
      "metadata": {
        "id": "O8Mi6BQpZ5Z-"
      }
    },
    {
      "cell_type": "code",
      "source": [
        "np.random.seed(5)\n",
        "X=np.random.randn(10,5)"
      ],
      "metadata": {
        "id": "m1xUZs0mZ8Zd"
      },
      "execution_count": 13,
      "outputs": []
    },
    {
      "cell_type": "markdown",
      "source": [
        "##**MIN-MAX SCALING**"
      ],
      "metadata": {
        "id": "R4O-mIleZ0L_"
      }
    },
    {
      "cell_type": "code",
      "source": [
        "mms=MinMaxScaler()\n",
        "x_mms=mms.fit_transform(X)"
      ],
      "metadata": {
        "id": "A4L6Vd-2aucV"
      },
      "execution_count": 15,
      "outputs": []
    },
    {
      "cell_type": "markdown",
      "source": [
        "##**STANDARDIZING**"
      ],
      "metadata": {
        "id": "ah3rBiaEaZQ3"
      }
    },
    {
      "cell_type": "code",
      "source": [
        "sd=StandardScaler()\n",
        "x_sd=sd.fit_transform(X)"
      ],
      "metadata": {
        "id": "n5FVmo_ObAyK"
      },
      "execution_count": 16,
      "outputs": []
    },
    {
      "cell_type": "markdown",
      "source": [
        "##**NORMALIZING**"
      ],
      "metadata": {
        "id": "SyV0WNsqbPkv"
      }
    },
    {
      "cell_type": "code",
      "source": [
        "nm=Normalizer()\n",
        "x_nm=nm.fit_transform(X)"
      ],
      "metadata": {
        "id": "e2Tl1mggbT4Y"
      },
      "execution_count": 17,
      "outputs": []
    },
    {
      "cell_type": "markdown",
      "source": [
        "##**PRINTING RESULTS**"
      ],
      "metadata": {
        "id": "t27e6ig3bfBF"
      }
    },
    {
      "cell_type": "code",
      "source": [
        "print(\"MIN-MAX SCALED RESULT :\\n\",x_mms)\n",
        "print(\"STANDARDIZED RESULT :\\n\",x_sd)\n",
        "print(\"NORMALIZED RESULT :\\n\",x_nm)"
      ],
      "metadata": {
        "colab": {
          "base_uri": "https://localhost:8080/"
        },
        "id": "2xW_hEG2bj-b",
        "outputId": "98578296-a34f-4083-e5a5-226632606d43"
      },
      "execution_count": 21,
      "outputs": [
        {
          "output_type": "stream",
          "name": "stdout",
          "text": [
            "MIN-MAX SCALED RESULT :\n",
            " [[0.58877385 0.28067344 1.         0.59541141 0.5499758 ]\n",
            " [1.         0.         0.08485383 0.80333949 0.41375878]\n",
            " [0.         0.34181689 0.155345   1.         0.        ]\n",
            " [0.1774926  1.         0.8263697  0.         0.71587302]\n",
            " [0.07644611 0.02541913 0.         0.51482327 0.82484926]\n",
            " [0.68649268 0.46994353 0.15398793 0.71617883 0.48316896]\n",
            " [0.7155467  0.13474601 0.26211805 0.66682958 0.49978922]\n",
            " [0.51958724 0.53716389 0.66816875 0.67354086 1.        ]\n",
            " [0.31957948 0.20940313 0.29449601 0.88270731 0.59956869]\n",
            " [0.89531819 0.99415321 0.41370397 0.5555731  0.48481669]]\n",
            "STANDARDIZED RESULT :\n",
            " [[ 0.27882079 -0.34819205  1.92116629 -0.17720661 -0.02848183]\n",
            " [ 1.54088133 -1.17180158 -0.94182078  0.63386672 -0.56701289]\n",
            " [-1.52813683 -0.16877239 -0.72129281  1.40098819 -2.20279938]\n",
            " [-0.98340882  1.76260339  1.37797295 -2.49975157  0.6273893 ]\n",
            " [-1.29352234 -1.09721156 -1.20728156 -0.49155996  1.05822454]\n",
            " [ 0.57872167  0.20720306 -0.72553834  0.29387568 -0.29260122]\n",
            " [ 0.66788899 -0.77640223 -0.38725891  0.10137709 -0.22689338]\n",
            " [ 0.06648585  0.40445482  0.88304952  0.12755603  1.75067923]\n",
            " [-0.5473416  -0.557328   -0.28596613  0.94345992  0.16758259]\n",
            " [ 1.21961096  1.74544654  0.08696975 -0.33260549 -0.28608697]]\n",
            "NORMALIZED RESULT :\n",
            " [[ 0.17595172 -0.13194367  0.96933754 -0.10052874  0.04370997]\n",
            " [ 0.80913913 -0.46490003 -0.30251001  0.09592349 -0.16866596]\n",
            " [-0.54848484 -0.0942111  -0.1650051   0.27750239 -0.76554189]\n",
            " [-0.24809207  0.40796848  0.65810181 -0.53545114  0.22848663]\n",
            " [-0.51487237 -0.44989442 -0.4577839  -0.2218396   0.523185  ]\n",
            " [ 0.88076229  0.07311969 -0.44915914  0.00406598 -0.13096119]\n",
            " [ 0.77735179 -0.61906725 -0.00607226 -0.09906659 -0.05127251]\n",
            " [ 0.11978116  0.09500111  0.64156655 -0.04175491  0.75051725]\n",
            " [-0.41974584 -0.65562791  0.13825084  0.48779581  0.37001004]\n",
            " [ 0.70746187  0.62388898  0.27074895 -0.18417324 -0.05509507]]\n"
          ]
        }
      ]
    }
  ]
}