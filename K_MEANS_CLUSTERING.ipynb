{
  "nbformat": 4,
  "nbformat_minor": 0,
  "metadata": {
    "colab": {
      "provenance": [],
      "authorship_tag": "ABX9TyPqR1XJGpfZoQc/YdGijOOq",
      "include_colab_link": true
    },
    "kernelspec": {
      "name": "python3",
      "display_name": "Python 3"
    },
    "language_info": {
      "name": "python"
    }
  },
  "cells": [
    {
      "cell_type": "markdown",
      "metadata": {
        "id": "view-in-github",
        "colab_type": "text"
      },
      "source": [
        "<a href=\"https://colab.research.google.com/github/adx17/machine-learning/blob/main/K_MEANS_CLUSTERING.ipynb\" target=\"_parent\"><img src=\"https://colab.research.google.com/assets/colab-badge.svg\" alt=\"Open In Colab\"/></a>"
      ]
    },
    {
      "cell_type": "markdown",
      "source": [
        "#**K-MEANS CLUSTERING**"
      ],
      "metadata": {
        "id": "mWVlfkHmW7n3"
      }
    },
    {
      "cell_type": "markdown",
      "source": [
        "##**IMPORTING MODULES**"
      ],
      "metadata": {
        "id": "qgxn6F6lXEQ9"
      }
    },
    {
      "cell_type": "code",
      "execution_count": 14,
      "metadata": {
        "id": "92bb3zNLWMki"
      },
      "outputs": [],
      "source": [
        "import numpy as np\n",
        "from sklearn.cluster import KMeans\n",
        "from sklearn.metrics import silhouette_score\n",
        "import matplotlib.pyplot as plt"
      ]
    },
    {
      "cell_type": "markdown",
      "source": [
        "##**DATASETS**"
      ],
      "metadata": {
        "id": "4k_5C98RXOqY"
      }
    },
    {
      "cell_type": "code",
      "source": [
        "X=np.array([[1,2],[1,4],[1,0],[4,2],[4,4],[4,0],[10,2],[10,4],[10,0]])"
      ],
      "metadata": {
        "id": "tAa2atjiXT2M"
      },
      "execution_count": 20,
      "outputs": []
    },
    {
      "cell_type": "markdown",
      "source": [
        "##**CREATING THE MODEL**"
      ],
      "metadata": {
        "id": "wpx-E24OXnVG"
      }
    },
    {
      "cell_type": "code",
      "source": [
        "model=KMeans(n_clusters=3,n_init=10)"
      ],
      "metadata": {
        "id": "gHkynSSwXyUp"
      },
      "execution_count": 21,
      "outputs": []
    },
    {
      "cell_type": "markdown",
      "source": [
        "##**FITTING THE MODEL**"
      ],
      "metadata": {
        "id": "ciG6hV3DYHnt"
      }
    },
    {
      "cell_type": "code",
      "source": [
        "model.fit(X)\n",
        "labels=model.labels_"
      ],
      "metadata": {
        "id": "Hwh-YFcBYMJF"
      },
      "execution_count": 22,
      "outputs": []
    },
    {
      "cell_type": "markdown",
      "source": [
        "##**EVALUATING THE MODEL**"
      ],
      "metadata": {
        "id": "27HkXNv1YVsf"
      }
    },
    {
      "cell_type": "code",
      "source": [
        "sil=silhouette_score(X,labels)\n",
        "print(\"Silhouette score of the model:\",sil)"
      ],
      "metadata": {
        "colab": {
          "base_uri": "https://localhost:8080/"
        },
        "id": "ExqbFRumYhoD",
        "outputId": "aa33b4c0-c4d4-416a-84a1-97c9ce85c14b"
      },
      "execution_count": 23,
      "outputs": [
        {
          "output_type": "stream",
          "name": "stdout",
          "text": [
            "Silhouette score of the model: 0.38663572970922844\n"
          ]
        }
      ]
    },
    {
      "cell_type": "markdown",
      "source": [
        "##**DATA VISUALIZATION**"
      ],
      "metadata": {
        "id": "z9kcMceBY_R8"
      }
    },
    {
      "cell_type": "code",
      "source": [
        "plt.scatter(X[:,0],X[:,1],c=labels,cmap=\"plasma\")\n",
        "plt.scatter(model.cluster_centers_[:,0],model.cluster_centers_[:,1],c=\"r\",marker='x',s=120,label=\"centroid\")\n",
        "plt.legend()\n",
        "plt.xlabel(\"X\")\n",
        "plt.ylabel(\"Y\")\n",
        "plt.title(\"K-MEANS CLUSTERING\")\n",
        "plt.show()"
      ],
      "metadata": {
        "colab": {
          "base_uri": "https://localhost:8080/",
          "height": 472
        },
        "id": "VtAUZKZTZEyG",
        "outputId": "e54f6b2a-a4ce-47eb-8b63-65659d4ddf1b"
      },
      "execution_count": 38,
      "outputs": [
        {
          "output_type": "display_data",
          "data": {
            "text/plain": [
              "<Figure size 640x480 with 1 Axes>"
            ],
            "image/png": "[encoded data removed]"
          },
          "metadata": {}
        }
      ]
    }
  ]
}